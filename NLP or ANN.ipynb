{
 "cells": [
  {
   "cell_type": "markdown",
   "id": "ad2234e6",
   "metadata": {},
   "source": [
    "### In this project we get a dataset of different text messages and our goal is to develop a classification model that distinguish spam messages from normal ones.\n",
    "### I will investigate two approaches of Natural Language Process (NLP) and Artificial Neural Network (ANN)"
   ]
  },
  {
   "cell_type": "markdown",
   "id": "77e2f6ce",
   "metadata": {},
   "source": [
    "### Step 1: Importing the required libraries"
   ]
  },
  {
   "cell_type": "code",
   "execution_count": 1,
   "id": "d6062bf8",
   "metadata": {},
   "outputs": [],
   "source": [
    "# always start with importing 4 essential libraries\n",
    "import numpy as np\n",
    "import pandas as pd\n",
    "import matplotlib.pyplot as plt\n",
    "import seaborn as sns\n",
    "%matplotlib inline"
   ]
  },
  {
   "cell_type": "markdown",
   "id": "5e836239",
   "metadata": {},
   "source": [
    "### Step 2: Reading the data"
   ]
  },
  {
   "cell_type": "markdown",
   "id": "a2b53de1",
   "metadata": {},
   "source": [
    "Here the data we have been provided with is not in csv format. We first need to read the file and figure out what the format is."
   ]
  },
  {
   "cell_type": "code",
   "execution_count": 2,
   "id": "a8b79b09",
   "metadata": {},
   "outputs": [],
   "source": [
    "messages = [line.rstrip() for line in open('SMSSpamCollection')]"
   ]
  },
  {
   "cell_type": "code",
   "execution_count": 3,
   "id": "c275e791",
   "metadata": {},
   "outputs": [
    {
     "name": "stdout",
     "output_type": "stream",
     "text": [
      "0 ham\tGo until jurong point, crazy.. Available only in bugis n great world la e buffet... Cine there got amore wat...\n",
      "\n",
      "\n",
      "1 ham\tOk lar... Joking wif u oni...\n",
      "\n",
      "\n",
      "2 spam\tFree entry in 2 a wkly comp to win FA Cup final tkts 21st May 2005. Text FA to 87121 to receive entry question(std txt rate)T&C's apply 08452810075over18's\n",
      "\n",
      "\n",
      "3 ham\tU dun say so early hor... U c already then say...\n",
      "\n",
      "\n",
      "4 ham\tNah I don't think he goes to usf, he lives around here though\n",
      "\n",
      "\n",
      "5 spam\tFreeMsg Hey there darling it's been 3 week's now and no word back! I'd like some fun you up for it still? Tb ok! XxX std chgs to send, Â£1.50 to rcv\n",
      "\n",
      "\n",
      "6 ham\tEven my brother is not like to speak with me. They treat me like aids patent.\n",
      "\n",
      "\n",
      "7 ham\tAs per your request 'Melle Melle (Oru Minnaminunginte Nurungu Vettam)' has been set as your callertune for all Callers. Press *9 to copy your friends Callertune\n",
      "\n",
      "\n",
      "8 spam\tWINNER!! As a valued network customer you have been selected to receivea Â£900 prize reward! To claim call 09061701461. Claim code KL341. Valid 12 hours only.\n",
      "\n",
      "\n",
      "9 spam\tHad your mobile 11 months or more? U R entitled to Update to the latest colour mobiles with camera for Free! Call The Mobile Update Co FREE on 08002986030\n",
      "\n",
      "\n",
      "10 ham\tI'm gonna be home soon and i don't want to talk about this stuff anymore tonight, k? I've cried enough today.\n",
      "\n",
      "\n"
     ]
    }
   ],
   "source": [
    "# I want to explore the data first\n",
    "for mess_num, message in enumerate(messages[0:11]):\n",
    "    print(mess_num,message)\n",
    "    print('\\n')"
   ]
  },
  {
   "cell_type": "code",
   "execution_count": 4,
   "id": "d611e70f",
   "metadata": {},
   "outputs": [
    {
     "data": {
      "text/plain": [
       "'ham\\tGo until jurong point, crazy.. Available only in bugis n great world la e buffet... Cine there got amore wat...'"
      ]
     },
     "execution_count": 4,
     "metadata": {},
     "output_type": "execute_result"
    }
   ],
   "source": [
    "messages[0]"
   ]
  },
  {
   "cell_type": "markdown",
   "id": "1c20a083",
   "metadata": {},
   "source": [
    "### That \\t shows that the seperator is tap in the data set we have. This helps us read the data as a csv file "
   ]
  },
  {
   "cell_type": "code",
   "execution_count": 5,
   "id": "aa46b98d",
   "metadata": {},
   "outputs": [],
   "source": [
    "messages = pd.read_csv('SMSSpamCollection',sep = '\\t', names = ['Class','SMS'])"
   ]
  },
  {
   "cell_type": "code",
   "execution_count": 6,
   "id": "a77da7bf",
   "metadata": {},
   "outputs": [
    {
     "data": {
      "text/html": [
       "<div>\n",
       "<style scoped>\n",
       "    .dataframe tbody tr th:only-of-type {\n",
       "        vertical-align: middle;\n",
       "    }\n",
       "\n",
       "    .dataframe tbody tr th {\n",
       "        vertical-align: top;\n",
       "    }\n",
       "\n",
       "    .dataframe thead th {\n",
       "        text-align: right;\n",
       "    }\n",
       "</style>\n",
       "<table border=\"1\" class=\"dataframe\">\n",
       "  <thead>\n",
       "    <tr style=\"text-align: right;\">\n",
       "      <th></th>\n",
       "      <th>Class</th>\n",
       "      <th>SMS</th>\n",
       "    </tr>\n",
       "  </thead>\n",
       "  <tbody>\n",
       "    <tr>\n",
       "      <th>0</th>\n",
       "      <td>ham</td>\n",
       "      <td>Go until jurong point, crazy.. Available only ...</td>\n",
       "    </tr>\n",
       "    <tr>\n",
       "      <th>1</th>\n",
       "      <td>ham</td>\n",
       "      <td>Ok lar... Joking wif u oni...</td>\n",
       "    </tr>\n",
       "    <tr>\n",
       "      <th>2</th>\n",
       "      <td>spam</td>\n",
       "      <td>Free entry in 2 a wkly comp to win FA Cup fina...</td>\n",
       "    </tr>\n",
       "    <tr>\n",
       "      <th>3</th>\n",
       "      <td>ham</td>\n",
       "      <td>U dun say so early hor... U c already then say...</td>\n",
       "    </tr>\n",
       "    <tr>\n",
       "      <th>4</th>\n",
       "      <td>ham</td>\n",
       "      <td>Nah I don't think he goes to usf, he lives aro...</td>\n",
       "    </tr>\n",
       "  </tbody>\n",
       "</table>\n",
       "</div>"
      ],
      "text/plain": [
       "  Class                                                SMS\n",
       "0   ham  Go until jurong point, crazy.. Available only ...\n",
       "1   ham                      Ok lar... Joking wif u oni...\n",
       "2  spam  Free entry in 2 a wkly comp to win FA Cup fina...\n",
       "3   ham  U dun say so early hor... U c already then say...\n",
       "4   ham  Nah I don't think he goes to usf, he lives aro..."
      ]
     },
     "execution_count": 6,
     "metadata": {},
     "output_type": "execute_result"
    }
   ],
   "source": [
    "messages.head()"
   ]
  },
  {
   "cell_type": "code",
   "execution_count": 7,
   "id": "f4b5f8b4",
   "metadata": {},
   "outputs": [],
   "source": [
    "# let's see if we can find a measure to decide whether a particular message is a spam or not\n",
    "# It would be a good idea to add a column of the length of the messages\n",
    "messages['Length'] = messages['SMS'].map(len)"
   ]
  },
  {
   "cell_type": "code",
   "execution_count": 8,
   "id": "69904033",
   "metadata": {},
   "outputs": [
    {
     "data": {
      "text/html": [
       "<div>\n",
       "<style scoped>\n",
       "    .dataframe tbody tr th:only-of-type {\n",
       "        vertical-align: middle;\n",
       "    }\n",
       "\n",
       "    .dataframe tbody tr th {\n",
       "        vertical-align: top;\n",
       "    }\n",
       "\n",
       "    .dataframe thead th {\n",
       "        text-align: right;\n",
       "    }\n",
       "</style>\n",
       "<table border=\"1\" class=\"dataframe\">\n",
       "  <thead>\n",
       "    <tr style=\"text-align: right;\">\n",
       "      <th></th>\n",
       "      <th>Class</th>\n",
       "      <th>SMS</th>\n",
       "      <th>Length</th>\n",
       "    </tr>\n",
       "  </thead>\n",
       "  <tbody>\n",
       "    <tr>\n",
       "      <th>0</th>\n",
       "      <td>ham</td>\n",
       "      <td>Go until jurong point, crazy.. Available only ...</td>\n",
       "      <td>111</td>\n",
       "    </tr>\n",
       "    <tr>\n",
       "      <th>1</th>\n",
       "      <td>ham</td>\n",
       "      <td>Ok lar... Joking wif u oni...</td>\n",
       "      <td>29</td>\n",
       "    </tr>\n",
       "    <tr>\n",
       "      <th>2</th>\n",
       "      <td>spam</td>\n",
       "      <td>Free entry in 2 a wkly comp to win FA Cup fina...</td>\n",
       "      <td>155</td>\n",
       "    </tr>\n",
       "    <tr>\n",
       "      <th>3</th>\n",
       "      <td>ham</td>\n",
       "      <td>U dun say so early hor... U c already then say...</td>\n",
       "      <td>49</td>\n",
       "    </tr>\n",
       "    <tr>\n",
       "      <th>4</th>\n",
       "      <td>ham</td>\n",
       "      <td>Nah I don't think he goes to usf, he lives aro...</td>\n",
       "      <td>61</td>\n",
       "    </tr>\n",
       "  </tbody>\n",
       "</table>\n",
       "</div>"
      ],
      "text/plain": [
       "  Class                                                SMS  Length\n",
       "0   ham  Go until jurong point, crazy.. Available only ...     111\n",
       "1   ham                      Ok lar... Joking wif u oni...      29\n",
       "2  spam  Free entry in 2 a wkly comp to win FA Cup fina...     155\n",
       "3   ham  U dun say so early hor... U c already then say...      49\n",
       "4   ham  Nah I don't think he goes to usf, he lives aro...      61"
      ]
     },
     "execution_count": 8,
     "metadata": {},
     "output_type": "execute_result"
    }
   ],
   "source": [
    "messages.head()"
   ]
  },
  {
   "cell_type": "code",
   "execution_count": 9,
   "id": "4d813c3a",
   "metadata": {},
   "outputs": [
    {
     "data": {
      "text/plain": [
       "array([<AxesSubplot:title={'center':'ham'}>,\n",
       "       <AxesSubplot:title={'center':'spam'}>], dtype=object)"
      ]
     },
     "execution_count": 9,
     "metadata": {},
     "output_type": "execute_result"
    },
    {
     "data": {
      "image/png": "[encoded data removed]",
      "text/plain": [
       "<Figure size 1000x600 with 2 Axes>"
      ]
     },
     "metadata": {},
     "output_type": "display_data"
    }
   ],
   "source": [
    "messages.hist(column = 'Length', by = 'Class', bins = 60, figsize=(10,6))"
   ]
  },
  {
   "cell_type": "markdown",
   "id": "66818239",
   "metadata": {},
   "source": [
    "#### It seems that the spam messages are generally longer than normal ones. The mean for non-spam messages is about 100 characters but for the spams it is about 150."
   ]
  },
  {
   "cell_type": "markdown",
   "id": "2463467e",
   "metadata": {},
   "source": [
    "## Modeling part\n",
    "### Model 1: Natural Language Process (NLP)"
   ]
  },
  {
   "cell_type": "markdown",
   "id": "7fe04f56",
   "metadata": {},
   "source": [
    "#### In order to deal with the words first we need to get rid of punctuations. The 'punctuation' function allows us to take anything but characters off the messages."
   ]
  },
  {
   "cell_type": "code",
   "execution_count": 10,
   "id": "b48bd0de",
   "metadata": {},
   "outputs": [
    {
     "data": {
      "text/plain": [
       "'Be careful This message says containing punctuation'"
      ]
     },
     "execution_count": 10,
     "metadata": {},
     "output_type": "execute_result"
    }
   ],
   "source": [
    "import string\n",
    "\n",
    "# Let's create a test message:\n",
    "test_message = 'Be careful! This message says: containing punctuation.'\n",
    "\n",
    "# Now I want to get the message without ! : and . All punctuations are in string.punctuation\n",
    "nopunc = [char for char in test_message if char not in string.punctuation]\n",
    "nopunc = ''.join(nopunc)\n",
    "\n",
    "nopunc"
   ]
  },
  {
   "cell_type": "markdown",
   "id": "4459ebae",
   "metadata": {},
   "source": [
    "#### The next step is removing all the stop words that do not help us find spams. Stop words are insignificant words in any languages. In English, stop words are 'a', 'the', 'is', 'and', etc."
   ]
  },
  {
   "cell_type": "code",
   "execution_count": 11,
   "id": "c6994763",
   "metadata": {},
   "outputs": [
    {
     "data": {
      "text/plain": [
       "['careful', 'message', 'says', 'containing', 'punctuation']"
      ]
     },
     "execution_count": 11,
     "metadata": {},
     "output_type": "execute_result"
    }
   ],
   "source": [
    "# we need to import nltk in order to remove the stop words\n",
    "import nltk\n",
    "\n",
    "from nltk.corpus import stopwords\n",
    "\n",
    "clean_message = [word for word in nopunc.split() if word.lower() not in stopwords.words('english') ]\n",
    "\n",
    "clean_message"
   ]
  },
  {
   "cell_type": "markdown",
   "id": "bc1258fe",
   "metadata": {},
   "source": [
    "#### Now we can use the same approach to define a function to clean the messages in our data set."
   ]
  },
  {
   "cell_type": "code",
   "execution_count": 12,
   "id": "7c39b4da",
   "metadata": {},
   "outputs": [],
   "source": [
    "# Let's define a function to clean all messages\n",
    "def text_cleaner(message):\n",
    "    nopunc = [c for c in message if c not in string.punctuation]\n",
    "    nopunc = ''.join(nopunc)\n",
    "    return [word for word in nopunc.split() if word.lower() not in stopwords.words('english')]"
   ]
  },
  {
   "cell_type": "code",
   "execution_count": 13,
   "id": "a8cc899d",
   "metadata": {},
   "outputs": [
    {
     "data": {
      "text/plain": [
       "['Go',\n",
       " 'jurong',\n",
       " 'point',\n",
       " 'crazy',\n",
       " 'Available',\n",
       " 'bugis',\n",
       " 'n',\n",
       " 'great',\n",
       " 'world',\n",
       " 'la',\n",
       " 'e',\n",
       " 'buffet',\n",
       " 'Cine',\n",
       " 'got',\n",
       " 'amore',\n",
       " 'wat']"
      ]
     },
     "execution_count": 13,
     "metadata": {},
     "output_type": "execute_result"
    }
   ],
   "source": [
    "# We can try and see if the function works\n",
    "clean_mess = messages['SMS'].head().apply(text_cleaner)\n",
    "clean_mess[0]"
   ]
  },
  {
   "cell_type": "code",
   "execution_count": 14,
   "id": "183d1ccf",
   "metadata": {},
   "outputs": [],
   "source": [
    "# A typical NLP needs Vectorization.\n",
    "# Vectorization consists of three steps:\n",
    "# 1. Term Frequency : Counting every word to see how many times they occur in each message.\n",
    "# 2. Inverse Document Frequency : Weigh the counts so that frequent token get lower weight.\n",
    "# 3. L2 norm : Normalizing the vectors to unit length, to abstract from the original text length.\n",
    "# We can still use sklearn library for countvectorizer\n",
    "\n",
    "from sklearn.feature_extraction.text import CountVectorizer\n",
    "\n",
    "# We now create a bag of words (bow)\n",
    "\n",
    "bow_transformer = CountVectorizer(analyzer = text_cleaner).fit(messages['SMS'])\n",
    "\n",
    "#Let's check the bow_transformer\n",
    "\n",
    "mess_test = messages['SMS'][3] # returning the 4th message\n",
    "bow4 = bow_transformer.transform([mess_test])"
   ]
  },
  {
   "cell_type": "code",
   "execution_count": 15,
   "id": "fe2713f3",
   "metadata": {},
   "outputs": [
    {
     "name": "stdout",
     "output_type": "stream",
     "text": [
      "U dun say so early hor... U c already then say...\n",
      "  (0, 4068)\t2\n",
      "  (0, 4629)\t1\n",
      "  (0, 5261)\t1\n",
      "  (0, 6204)\t1\n",
      "  (0, 6222)\t1\n",
      "  (0, 7186)\t1\n",
      "  (0, 9554)\t2\n"
     ]
    }
   ],
   "source": [
    "print(mess_test)\n",
    "print(bow4)"
   ]
  },
  {
   "cell_type": "markdown",
   "id": "d2e6f843",
   "metadata": {},
   "source": [
    "#### Note that this results make sense. The two words of 'U' and 'say' are repeated twice and the other words only show once"
   ]
  },
  {
   "cell_type": "code",
   "execution_count": 16,
   "id": "f42ad184",
   "metadata": {},
   "outputs": [],
   "source": [
    "messages_bow = bow_transformer.transform(messages['SMS'])"
   ]
  },
  {
   "cell_type": "code",
   "execution_count": 17,
   "id": "40e78f8d",
   "metadata": {},
   "outputs": [
    {
     "name": "stdout",
     "output_type": "stream",
     "text": [
      "  (0, 9554)\t0.5385626262927564\n",
      "  (0, 7186)\t0.4389365653379857\n",
      "  (0, 6222)\t0.3187216892949149\n",
      "  (0, 6204)\t0.29953799723697416\n",
      "  (0, 5261)\t0.29729957405868723\n",
      "  (0, 4629)\t0.26619801906087187\n",
      "  (0, 4068)\t0.40832589933384067\n"
     ]
    }
   ],
   "source": [
    "# Second and third steps of vectorization.\n",
    "# Term Frequency (TF) represents the importance of the term within the document.\n",
    "# Inverse Document Frequency (IDF) is the importance of the term in the corpus.\n",
    "\n",
    "from sklearn.feature_extraction.text import TfidfTransformer\n",
    "\n",
    "tfidf_transformer = TfidfTransformer().fit(messages_bow)\n",
    "\n",
    "# I would rather try the tfidf_transformer I have just created before applying it to the whole data set.\n",
    "\n",
    "tfidf4 = tfidf_transformer.transform(bow4)\n",
    "print(tfidf4)"
   ]
  },
  {
   "cell_type": "markdown",
   "id": "a22f59ec",
   "metadata": {},
   "source": [
    "#### Now for each word after the cleaning, tfidf_transformer assigns a weight according to the importance of the word"
   ]
  },
  {
   "cell_type": "code",
   "execution_count": 18,
   "id": "1f4be40f",
   "metadata": {},
   "outputs": [],
   "source": [
    "messages_tfidf = tfidf_transformer.transform(messages_bow)"
   ]
  },
  {
   "cell_type": "code",
   "execution_count": 19,
   "id": "440a83be",
   "metadata": {},
   "outputs": [],
   "source": [
    "# I usually use the Naive Bayes method for NLP approach assuming that all features are independent\n",
    "\n",
    "from sklearn.naive_bayes import MultinomialNB\n",
    "\n",
    "spam_detect_model = MultinomialNB().fit(messages_tfidf,messages['Class'])\n",
    "\n",
    "prediction = spam_detect_model.predict(messages_tfidf)"
   ]
  },
  {
   "cell_type": "markdown",
   "id": "966107e4",
   "metadata": {},
   "source": [
    "#### This model works but the whole dataset was used for training. I still want to have an opportunity to test the model. One way is to make a pipeline and then split the data into train and test set."
   ]
  },
  {
   "cell_type": "code",
   "execution_count": 20,
   "id": "70040279",
   "metadata": {},
   "outputs": [],
   "source": [
    "from sklearn.model_selection import train_test_split\n",
    "\n",
    "SMS_train, SMS_test, Class_train, Class_test = train_test_split(messages['SMS'], messages['Class'], test_size=0.3, random_state=101)"
   ]
  },
  {
   "cell_type": "code",
   "execution_count": 21,
   "id": "b2e08906",
   "metadata": {},
   "outputs": [
    {
     "name": "stdout",
     "output_type": "stream",
     "text": [
      "              precision    recall  f1-score   support\n",
      "\n",
      "         ham       1.00      0.96      0.98      1543\n",
      "        spam       0.65      1.00      0.79       129\n",
      "\n",
      "    accuracy                           0.96      1672\n",
      "   macro avg       0.83      0.98      0.88      1672\n",
      "weighted avg       0.97      0.96      0.96      1672\n",
      "\n",
      "[[1475    0]\n",
      " [  68  129]]\n"
     ]
    }
   ],
   "source": [
    "# Making pipelines\n",
    "\n",
    "from sklearn.pipeline import Pipeline\n",
    "\n",
    "pipeline = Pipeline([\n",
    "                    ('bow',CountVectorizer(analyzer=text_cleaner)),\n",
    "                    ('tfidf',TfidfTransformer()),\n",
    "                    ('Classifier',MultinomialNB())\n",
    "                    ])\n",
    "\n",
    "pipeline.fit(SMS_train,Class_train)\n",
    "\n",
    "prediction_1 = pipeline.predict(SMS_test)\n",
    "\n",
    "from sklearn.metrics import classification_report, confusion_matrix\n",
    "\n",
    "print(classification_report(prediction_1,Class_test))\n",
    "print(confusion_matrix(Class_test,prediction_1))"
   ]
  },
  {
   "cell_type": "markdown",
   "id": "74e1025f",
   "metadata": {},
   "source": [
    "### It looks like the Naive Bayes assumption did pretty well in NLP approach."
   ]
  },
  {
   "cell_type": "markdown",
   "id": "bb94309d",
   "metadata": {},
   "source": [
    "### Model 2: Artificial Neural Network (ANN)"
   ]
  },
  {
   "cell_type": "markdown",
   "id": "5b9914cb",
   "metadata": {},
   "source": [
    "#### For solving the problem with Neural Networks, we need to apply TFIDF to all the messages first and then convert them to numpy array. This step is required for train-test splitting. "
   ]
  },
  {
   "cell_type": "code",
   "execution_count": 23,
   "id": "6030f2a7",
   "metadata": {},
   "outputs": [],
   "source": [
    "bows = CountVectorizer(analyzer=text_cleaner).fit_transform(messages['SMS'])\n",
    "TFIDF = TfidfTransformer().fit_transform(bows)\n",
    "\n",
    "# Now I convert this TFIDF to numpy array\n",
    "tfidf_array = TFIDF.toarray()"
   ]
  },
  {
   "cell_type": "markdown",
   "id": "1a381e44",
   "metadata": {},
   "source": [
    "#### This time the classification is unstructured but we still need to make decisions between 'Spam' or 'Ham'. Therefore, the classes must be encoded first and the test data should be categorized."
   ]
  },
  {
   "cell_type": "code",
   "execution_count": 25,
   "id": "fe27d659",
   "metadata": {},
   "outputs": [],
   "source": [
    "from sklearn.preprocessing import LabelEncoder\n",
    "LE = LabelEncoder()\n",
    "Classes = LE.fit_transform(messages['Class'])"
   ]
  },
  {
   "cell_type": "code",
   "execution_count": 26,
   "id": "2571e51d",
   "metadata": {},
   "outputs": [],
   "source": [
    "from tensorflow.keras.utils import to_categorical"
   ]
  },
  {
   "cell_type": "code",
   "execution_count": 27,
   "id": "3f9223ca",
   "metadata": {},
   "outputs": [],
   "source": [
    "classes = to_categorical(Classes,2)"
   ]
  },
  {
   "cell_type": "code",
   "execution_count": 29,
   "id": "ed2385a2",
   "metadata": {},
   "outputs": [],
   "source": [
    "X_train, X_test, y_train, y_test = train_test_split(tfidf_array, classes, test_size=0.1, random_state=101)"
   ]
  },
  {
   "cell_type": "code",
   "execution_count": 31,
   "id": "649b02a2",
   "metadata": {},
   "outputs": [
    {
     "name": "stdout",
     "output_type": "stream",
     "text": [
      "TFIDF matrix size shape =  (5572, 11425)\n",
      "One-hot encoding shape =  (5572, 2)\n"
     ]
    }
   ],
   "source": [
    "print('TFIDF matrix size shape = ', tfidf_array.shape )\n",
    "print('One-hot encoding shape = ',classes.shape)"
   ]
  },
  {
   "cell_type": "code",
   "execution_count": 34,
   "id": "f658df23",
   "metadata": {},
   "outputs": [
    {
     "name": "stdout",
     "output_type": "stream",
     "text": [
      "Model: \"sequential_1\"\n",
      "_________________________________________________________________\n",
      " Layer (type)                Output Shape              Param #   \n",
      "=================================================================\n",
      " dense_3 (Dense)             (None, 32)                365632    \n",
      "                                                                 \n",
      " dense_4 (Dense)             (None, 32)                1056      \n",
      "                                                                 \n",
      " dense_5 (Dense)             (None, 2)                 66        \n",
      "                                                                 \n",
      "=================================================================\n",
      "Total params: 366,754\n",
      "Trainable params: 366,754\n",
      "Non-trainable params: 0\n",
      "_________________________________________________________________\n"
     ]
    }
   ],
   "source": [
    "from tensorflow.keras.models import Sequential\n",
    "from tensorflow.keras.layers import Dense, Dropout\n",
    "\n",
    "ANN = Sequential()\n",
    "\n",
    "ANN.add(Dense(32, input_shape = (X_train.shape[1],),activation = 'relu' ))\n",
    "ANN.add(Dense(32, activation = 'relu'))\n",
    "ANN.add(Dense(2,activation = 'softmax'))\n",
    "\n",
    "ANN.compile(loss = 'categorical_crossentropy', metrics = ['accuracy'])\n",
    "\n",
    "ANN.summary()"
   ]
  },
  {
   "cell_type": "code",
   "execution_count": 54,
   "id": "d9403cf2",
   "metadata": {},
   "outputs": [
    {
     "name": "stdout",
     "output_type": "stream",
     "text": [
      "Epoch 1/30\n",
      "16/16 [==============================] - 1s 29ms/step - loss: 2.7283e-04 - accuracy: 1.0000 - val_loss: 0.1048 - val_accuracy: 0.9791\n",
      "Epoch 2/30\n",
      "16/16 [==============================] - 0s 24ms/step - loss: 2.4892e-04 - accuracy: 1.0000 - val_loss: 0.1086 - val_accuracy: 0.9791\n",
      "Epoch 3/30\n",
      "16/16 [==============================] - 0s 23ms/step - loss: 2.2940e-04 - accuracy: 1.0000 - val_loss: 0.1008 - val_accuracy: 0.9801\n",
      "Epoch 4/30\n",
      "16/16 [==============================] - 0s 22ms/step - loss: 2.1446e-04 - accuracy: 1.0000 - val_loss: 0.1031 - val_accuracy: 0.9791\n",
      "Epoch 5/30\n",
      "16/16 [==============================] - 0s 18ms/step - loss: 1.9793e-04 - accuracy: 1.0000 - val_loss: 0.1077 - val_accuracy: 0.9791\n",
      "Epoch 6/30\n",
      "16/16 [==============================] - 0s 20ms/step - loss: 1.8512e-04 - accuracy: 1.0000 - val_loss: 0.1098 - val_accuracy: 0.9791\n",
      "Epoch 7/30\n",
      "16/16 [==============================] - 0s 21ms/step - loss: 1.7302e-04 - accuracy: 1.0000 - val_loss: 0.1114 - val_accuracy: 0.9791\n",
      "Epoch 8/30\n",
      "16/16 [==============================] - 0s 20ms/step - loss: 1.6310e-04 - accuracy: 1.0000 - val_loss: 0.1121 - val_accuracy: 0.9791\n",
      "Epoch 9/30\n",
      "16/16 [==============================] - 0s 20ms/step - loss: 1.5361e-04 - accuracy: 1.0000 - val_loss: 0.1081 - val_accuracy: 0.9791\n",
      "Epoch 10/30\n",
      "16/16 [==============================] - 0s 20ms/step - loss: 1.4594e-04 - accuracy: 1.0000 - val_loss: 0.1104 - val_accuracy: 0.9791\n",
      "Epoch 11/30\n",
      "16/16 [==============================] - 0s 20ms/step - loss: 1.3910e-04 - accuracy: 1.0000 - val_loss: 0.1135 - val_accuracy: 0.9791\n",
      "Epoch 12/30\n",
      "16/16 [==============================] - 0s 21ms/step - loss: 1.3129e-04 - accuracy: 1.0000 - val_loss: 0.1131 - val_accuracy: 0.9791\n",
      "Epoch 13/30\n",
      "16/16 [==============================] - 0s 23ms/step - loss: 1.2511e-04 - accuracy: 1.0000 - val_loss: 0.1145 - val_accuracy: 0.9791\n",
      "Epoch 14/30\n",
      "16/16 [==============================] - 0s 22ms/step - loss: 1.1973e-04 - accuracy: 1.0000 - val_loss: 0.1140 - val_accuracy: 0.9791\n",
      "Epoch 15/30\n",
      "16/16 [==============================] - 0s 20ms/step - loss: 1.1460e-04 - accuracy: 1.0000 - val_loss: 0.1143 - val_accuracy: 0.9791\n",
      "Epoch 16/30\n",
      "16/16 [==============================] - 0s 22ms/step - loss: 1.0972e-04 - accuracy: 1.0000 - val_loss: 0.1130 - val_accuracy: 0.9791\n",
      "Epoch 17/30\n",
      "16/16 [==============================] - 0s 22ms/step - loss: 1.0509e-04 - accuracy: 1.0000 - val_loss: 0.1132 - val_accuracy: 0.9791\n",
      "Epoch 18/30\n",
      "16/16 [==============================] - 0s 22ms/step - loss: 1.0082e-04 - accuracy: 1.0000 - val_loss: 0.1161 - val_accuracy: 0.9791\n",
      "Epoch 19/30\n",
      "16/16 [==============================] - 0s 24ms/step - loss: 9.7185e-05 - accuracy: 1.0000 - val_loss: 0.1139 - val_accuracy: 0.9791\n",
      "Epoch 20/30\n",
      "16/16 [==============================] - 0s 21ms/step - loss: 9.4098e-05 - accuracy: 1.0000 - val_loss: 0.1139 - val_accuracy: 0.9791\n",
      "Epoch 21/30\n",
      "16/16 [==============================] - 0s 19ms/step - loss: 9.0317e-05 - accuracy: 1.0000 - val_loss: 0.1175 - val_accuracy: 0.9791\n",
      "Epoch 22/30\n",
      "16/16 [==============================] - 0s 20ms/step - loss: 8.7547e-05 - accuracy: 1.0000 - val_loss: 0.1153 - val_accuracy: 0.9791\n",
      "Epoch 23/30\n",
      "16/16 [==============================] - 0s 20ms/step - loss: 8.4175e-05 - accuracy: 1.0000 - val_loss: 0.1149 - val_accuracy: 0.9791\n",
      "Epoch 24/30\n",
      "16/16 [==============================] - 0s 21ms/step - loss: 8.1561e-05 - accuracy: 1.0000 - val_loss: 0.1145 - val_accuracy: 0.9791\n",
      "Epoch 25/30\n",
      "16/16 [==============================] - 0s 20ms/step - loss: 7.8754e-05 - accuracy: 1.0000 - val_loss: 0.1189 - val_accuracy: 0.9791\n",
      "Epoch 26/30\n",
      "16/16 [==============================] - 0s 21ms/step - loss: 7.6406e-05 - accuracy: 1.0000 - val_loss: 0.1174 - val_accuracy: 0.9791\n",
      "Epoch 27/30\n",
      "16/16 [==============================] - 0s 22ms/step - loss: 7.4228e-05 - accuracy: 1.0000 - val_loss: 0.1173 - val_accuracy: 0.9791\n",
      "Epoch 28/30\n",
      "16/16 [==============================] - 0s 21ms/step - loss: 7.2216e-05 - accuracy: 1.0000 - val_loss: 0.1178 - val_accuracy: 0.9791\n",
      "Epoch 29/30\n",
      "16/16 [==============================] - 0s 21ms/step - loss: 6.9940e-05 - accuracy: 1.0000 - val_loss: 0.1176 - val_accuracy: 0.9791\n",
      "Epoch 30/30\n",
      "16/16 [==============================] - 0s 21ms/step - loss: 6.7975e-05 - accuracy: 1.0000 - val_loss: 0.1195 - val_accuracy: 0.9791\n"
     ]
    },
    {
     "data": {
      "text/plain": [
       "<keras.callbacks.History at 0x20c96225880>"
      ]
     },
     "execution_count": 54,
     "metadata": {},
     "output_type": "execute_result"
    }
   ],
   "source": [
    "ANN.fit(X_train,y_train,validation_split = 0.2, epochs = 30, batch_size = 256)"
   ]
  },
  {
   "cell_type": "code",
   "execution_count": 55,
   "id": "bd8d21d2",
   "metadata": {},
   "outputs": [
    {
     "name": "stdout",
     "output_type": "stream",
     "text": [
      "\n",
      "Evaluation against Test Dataset :\n",
      "------------------------------------\n",
      "18/18 [==============================] - 0s 3ms/step - loss: 0.0501 - accuracy: 0.9785\n"
     ]
    },
    {
     "data": {
      "text/plain": [
       "[0.050130389630794525, 0.9784946441650391]"
      ]
     },
     "execution_count": 55,
     "metadata": {},
     "output_type": "execute_result"
    },
    {
     "data": {
      "image/png": "[encoded data removed]",
      "text/plain": [
       "<Figure size 640x480 with 1 Axes>"
      ]
     },
     "metadata": {},
     "output_type": "display_data"
    }
   ],
   "source": [
    "losses = pd.DataFrame(ANN.history.history)\n",
    "losses.plot()\n",
    "print(\"\\nEvaluation against Test Dataset :\\n------------------------------------\")\n",
    "ANN.evaluate(X_test,y_test)"
   ]
  },
  {
   "cell_type": "code",
   "execution_count": 56,
   "id": "64db7a54",
   "metadata": {},
   "outputs": [
    {
     "name": "stdout",
     "output_type": "stream",
     "text": [
      "18/18 [==============================] - 0s 3ms/step\n"
     ]
    }
   ],
   "source": [
    "prediction = ANN.predict(X_test)"
   ]
  },
  {
   "cell_type": "code",
   "execution_count": 57,
   "id": "96c7b426",
   "metadata": {},
   "outputs": [
    {
     "data": {
      "text/plain": [
       "(558, 11425)"
      ]
     },
     "execution_count": 57,
     "metadata": {},
     "output_type": "execute_result"
    }
   ],
   "source": [
    "X_test.shape"
   ]
  },
  {
   "cell_type": "code",
   "execution_count": null,
   "id": "d49b7c05",
   "metadata": {},
   "outputs": [],
   "source": []
  },
  {
   "cell_type": "markdown",
   "id": "47b1b4a5",
   "metadata": {},
   "source": [
    "#### The Neural Network worked good. Now we need to test the model on some unseen data."
   ]
  },
  {
   "cell_type": "code",
   "execution_count": 45,
   "id": "f5858d9f",
   "metadata": {},
   "outputs": [
    {
     "ename": "ValueError",
     "evalue": "in user code:\n\n    File \"C:\\Users\\poory\\anaconda3\\lib\\site-packages\\keras\\engine\\training.py\", line 2137, in predict_function  *\n        return step_function(self, iterator)\n    File \"C:\\Users\\poory\\anaconda3\\lib\\site-packages\\keras\\engine\\training.py\", line 2123, in step_function  **\n        outputs = model.distribute_strategy.run(run_step, args=(data,))\n    File \"C:\\Users\\poory\\anaconda3\\lib\\site-packages\\keras\\engine\\training.py\", line 2111, in run_step  **\n        outputs = model.predict_step(data)\n    File \"C:\\Users\\poory\\anaconda3\\lib\\site-packages\\keras\\engine\\training.py\", line 2079, in predict_step\n        return self(x, training=False)\n    File \"C:\\Users\\poory\\anaconda3\\lib\\site-packages\\keras\\utils\\traceback_utils.py\", line 70, in error_handler\n        raise e.with_traceback(filtered_tb) from None\n    File \"C:\\Users\\poory\\anaconda3\\lib\\site-packages\\keras\\engine\\input_spec.py\", line 295, in assert_input_compatibility\n        raise ValueError(\n\n    ValueError: Input 0 of layer \"sequential_1\" is incompatible with the layer: expected shape=(None, 11425), found shape=(None, 6)\n",
     "output_type": "error",
     "traceback": [
      "\u001b[1;31m---------------------------------------------------------------------------\u001b[0m",
      "\u001b[1;31mValueError\u001b[0m                                Traceback (most recent call last)",
      "\u001b[1;32m~\\AppData\\Local\\Temp\\ipykernel_6824\\3140921843.py\u001b[0m in \u001b[0;36m<module>\u001b[1;34m\u001b[0m\n\u001b[0;32m      7\u001b[0m \u001b[1;33m\u001b[0m\u001b[0m\n\u001b[0;32m      8\u001b[0m \u001b[1;31m#Predict using model\u001b[0m\u001b[1;33m\u001b[0m\u001b[1;33m\u001b[0m\u001b[0m\n\u001b[1;32m----> 9\u001b[1;33m \u001b[0mprediction\u001b[0m \u001b[1;33m=\u001b[0m \u001b[0mnp\u001b[0m\u001b[1;33m.\u001b[0m\u001b[0margmax\u001b[0m\u001b[1;33m(\u001b[0m \u001b[0mANN\u001b[0m\u001b[1;33m.\u001b[0m\u001b[0mpredict\u001b[0m\u001b[1;33m(\u001b[0m\u001b[0mtest_tfidf\u001b[0m\u001b[1;33m)\u001b[0m\u001b[1;33m,\u001b[0m \u001b[0maxis\u001b[0m\u001b[1;33m=\u001b[0m\u001b[1;36m1\u001b[0m \u001b[1;33m)\u001b[0m\u001b[1;33m\u001b[0m\u001b[1;33m\u001b[0m\u001b[0m\n\u001b[0m\u001b[0;32m     10\u001b[0m \u001b[0mprint\u001b[0m\u001b[1;33m(\u001b[0m\u001b[1;34m\"Prediction Output:\"\u001b[0m \u001b[1;33m,\u001b[0m \u001b[0mprediction\u001b[0m\u001b[1;33m)\u001b[0m\u001b[1;33m\u001b[0m\u001b[1;33m\u001b[0m\u001b[0m\n\u001b[0;32m     11\u001b[0m \u001b[1;33m\u001b[0m\u001b[0m\n",
      "\u001b[1;32m~\\anaconda3\\lib\\site-packages\\keras\\utils\\traceback_utils.py\u001b[0m in \u001b[0;36merror_handler\u001b[1;34m(*args, **kwargs)\u001b[0m\n\u001b[0;32m     68\u001b[0m             \u001b[1;31m# To get the full stack trace, call:\u001b[0m\u001b[1;33m\u001b[0m\u001b[1;33m\u001b[0m\u001b[0m\n\u001b[0;32m     69\u001b[0m             \u001b[1;31m# `tf.debugging.disable_traceback_filtering()`\u001b[0m\u001b[1;33m\u001b[0m\u001b[1;33m\u001b[0m\u001b[0m\n\u001b[1;32m---> 70\u001b[1;33m             \u001b[1;32mraise\u001b[0m \u001b[0me\u001b[0m\u001b[1;33m.\u001b[0m\u001b[0mwith_traceback\u001b[0m\u001b[1;33m(\u001b[0m\u001b[0mfiltered_tb\u001b[0m\u001b[1;33m)\u001b[0m \u001b[1;32mfrom\u001b[0m \u001b[1;32mNone\u001b[0m\u001b[1;33m\u001b[0m\u001b[1;33m\u001b[0m\u001b[0m\n\u001b[0m\u001b[0;32m     71\u001b[0m         \u001b[1;32mfinally\u001b[0m\u001b[1;33m:\u001b[0m\u001b[1;33m\u001b[0m\u001b[1;33m\u001b[0m\u001b[0m\n\u001b[0;32m     72\u001b[0m             \u001b[1;32mdel\u001b[0m \u001b[0mfiltered_tb\u001b[0m\u001b[1;33m\u001b[0m\u001b[1;33m\u001b[0m\u001b[0m\n",
      "\u001b[1;32m~\\anaconda3\\lib\\site-packages\\keras\\engine\\training.py\u001b[0m in \u001b[0;36mtf__predict_function\u001b[1;34m(iterator)\u001b[0m\n\u001b[0;32m     13\u001b[0m                 \u001b[1;32mtry\u001b[0m\u001b[1;33m:\u001b[0m\u001b[1;33m\u001b[0m\u001b[1;33m\u001b[0m\u001b[0m\n\u001b[0;32m     14\u001b[0m                     \u001b[0mdo_return\u001b[0m \u001b[1;33m=\u001b[0m \u001b[1;32mTrue\u001b[0m\u001b[1;33m\u001b[0m\u001b[1;33m\u001b[0m\u001b[0m\n\u001b[1;32m---> 15\u001b[1;33m                     \u001b[0mretval_\u001b[0m \u001b[1;33m=\u001b[0m \u001b[0mag__\u001b[0m\u001b[1;33m.\u001b[0m\u001b[0mconverted_call\u001b[0m\u001b[1;33m(\u001b[0m\u001b[0mag__\u001b[0m\u001b[1;33m.\u001b[0m\u001b[0mld\u001b[0m\u001b[1;33m(\u001b[0m\u001b[0mstep_function\u001b[0m\u001b[1;33m)\u001b[0m\u001b[1;33m,\u001b[0m \u001b[1;33m(\u001b[0m\u001b[0mag__\u001b[0m\u001b[1;33m.\u001b[0m\u001b[0mld\u001b[0m\u001b[1;33m(\u001b[0m\u001b[0mself\u001b[0m\u001b[1;33m)\u001b[0m\u001b[1;33m,\u001b[0m \u001b[0mag__\u001b[0m\u001b[1;33m.\u001b[0m\u001b[0mld\u001b[0m\u001b[1;33m(\u001b[0m\u001b[0miterator\u001b[0m\u001b[1;33m)\u001b[0m\u001b[1;33m)\u001b[0m\u001b[1;33m,\u001b[0m \u001b[1;32mNone\u001b[0m\u001b[1;33m,\u001b[0m \u001b[0mfscope\u001b[0m\u001b[1;33m)\u001b[0m\u001b[1;33m\u001b[0m\u001b[1;33m\u001b[0m\u001b[0m\n\u001b[0m\u001b[0;32m     16\u001b[0m                 \u001b[1;32mexcept\u001b[0m\u001b[1;33m:\u001b[0m\u001b[1;33m\u001b[0m\u001b[1;33m\u001b[0m\u001b[0m\n\u001b[0;32m     17\u001b[0m                     \u001b[0mdo_return\u001b[0m \u001b[1;33m=\u001b[0m \u001b[1;32mFalse\u001b[0m\u001b[1;33m\u001b[0m\u001b[1;33m\u001b[0m\u001b[0m\n",
      "\u001b[1;31mValueError\u001b[0m: in user code:\n\n    File \"C:\\Users\\poory\\anaconda3\\lib\\site-packages\\keras\\engine\\training.py\", line 2137, in predict_function  *\n        return step_function(self, iterator)\n    File \"C:\\Users\\poory\\anaconda3\\lib\\site-packages\\keras\\engine\\training.py\", line 2123, in step_function  **\n        outputs = model.distribute_strategy.run(run_step, args=(data,))\n    File \"C:\\Users\\poory\\anaconda3\\lib\\site-packages\\keras\\engine\\training.py\", line 2111, in run_step  **\n        outputs = model.predict_step(data)\n    File \"C:\\Users\\poory\\anaconda3\\lib\\site-packages\\keras\\engine\\training.py\", line 2079, in predict_step\n        return self(x, training=False)\n    File \"C:\\Users\\poory\\anaconda3\\lib\\site-packages\\keras\\utils\\traceback_utils.py\", line 70, in error_handler\n        raise e.with_traceback(filtered_tb) from None\n    File \"C:\\Users\\poory\\anaconda3\\lib\\site-packages\\keras\\engine\\input_spec.py\", line 295, in assert_input_compatibility\n        raise ValueError(\n\n    ValueError: Input 0 of layer \"sequential_1\" is incompatible with the layer: expected shape=(None, 11425), found shape=(None, 6)\n"
     ]
    }
   ],
   "source": [
    "# Let's test the model for a list of two messages. One spam and one ham\n",
    "\n",
    "test_list = ['Free Pizza in trivial night',\"I'll be there in a lil\"]\n",
    "\n",
    "test_bow = CountVectorizer(analyzer=text_cleaner).fit_transform(test_list)\n",
    "test_tfidf = TfidfTransformer().fit_transform(test_bow).toarray()\n",
    "\n",
    "#Predict using model\n",
    "prediction = np.argmax( ANN.predict(test_tfidf), axis=1 )\n",
    "print(\"Prediction Output:\" , prediction)\n",
    "\n",
    "#Print prediction classes\n",
    "print(\"Prediction Classes are \", LE.inverse_transform(prediction))"
   ]
  },
  {
   "cell_type": "code",
   "execution_count": 51,
   "id": "3e9893c5",
   "metadata": {},
   "outputs": [
    {
     "name": "stdout",
     "output_type": "stream",
     "text": [
      "[[0. 0. 0. ... 0. 0. 0.]\n",
      " [0. 0. 0. ... 0. 0. 0.]\n",
      " [0. 0. 0. ... 0. 0. 0.]\n",
      " ...\n",
      " [0. 0. 0. ... 0. 0. 0.]\n",
      " [0. 0. 0. ... 0. 0. 0.]\n",
      " [0. 0. 0. ... 0. 0. 0.]]\n"
     ]
    },
    {
     "data": {
      "text/plain": [
       "(5014, 11425)"
      ]
     },
     "execution_count": 51,
     "metadata": {},
     "output_type": "execute_result"
    }
   ],
   "source": [
    "print(X_train)\n",
    "X_train.shape"
   ]
  },
  {
   "cell_type": "code",
   "execution_count": 52,
   "id": "71da5b98",
   "metadata": {},
   "outputs": [
    {
     "data": {
      "text/plain": [
       "array([[0.5       , 0.        , 0.5       , 0.        , 0.5       ,\n",
       "        0.5       ],\n",
       "       [0.        , 0.70710678, 0.        , 0.70710678, 0.        ,\n",
       "        0.        ]])"
      ]
     },
     "execution_count": 52,
     "metadata": {},
     "output_type": "execute_result"
    }
   ],
   "source": [
    "test_tfidf"
   ]
  },
  {
   "cell_type": "code",
   "execution_count": null,
   "id": "c3474585",
   "metadata": {},
   "outputs": [],
   "source": []
  }
 ],
 "metadata": {
  "kernelspec": {
   "display_name": "Python 3 (ipykernel)",
   "language": "python",
   "name": "python3"
  },
  "language_info": {
   "codemirror_mode": {
    "name": "ipython",
    "version": 3
   },
   "file_extension": ".py",
   "mimetype": "text/x-python",
   "name": "python",
   "nbconvert_exporter": "python",
   "pygments_lexer": "ipython3",
   "version": "3.9.13"
  }
 },
 "nbformat": 4,
 "nbformat_minor": 5
}
